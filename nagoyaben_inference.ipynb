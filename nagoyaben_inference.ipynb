{
 "cells": [
  {
   "cell_type": "markdown",
   "id": "02007cd5-fff5-4540-a2b5-3cbf44a9e9e5",
   "metadata": {},
   "source": [
    "# 学習したモデルを読み込んで推論のみ行う"
   ]
  },
  {
   "cell_type": "code",
   "execution_count": null,
   "id": "07331a08-a268-4e6d-aac3-0f4b91f1dc32",
   "metadata": {},
   "outputs": [],
   "source": [
    "from peft import AutoPeftModelForCausalLM\n",
    "from transformers import AutoTokenizer\n",
    "import torch\n",
    "import transformers\n",
    "\n",
    "transformers.logging.set_verbosity_error()\n",
    "\n",
    "# モデルの読み込み\n",
    "model = AutoPeftModelForCausalLM.from_pretrained(\n",
    "    \"./nagoyaben-lora-llama-3-8b-bnb-4bit\",\n",
    "    torch_dtype=torch.float16,\n",
    "    device_map=\"auto\",\n",
    ")\n",
    "\n",
    "# トークナイザーの準備\n",
    "tokenizer = AutoTokenizer.from_pretrained(\n",
    "    \"unsloth/llama-3-8b-bnb-4bit\",\n",
    "    trust_remote_code=True\n",
    ")"
   ]
  },
  {
   "cell_type": "code",
   "execution_count": null,
   "id": "40d1df97-1692-4eac-855c-e6c54ceb0923",
   "metadata": {},
   "outputs": [],
   "source": [
    "alpaca_prompt = \"\"\"Below is an instruction that describes a task, paired with an input that provides further context. Write a response that appropriately completes the request.\n",
    "\n",
    "### Instruction:\n",
    "{}\n",
    "### Input:\n",
    "{}\n",
    "### Response:\n",
    "{}\"\"\"\n",
    "\n",
    "input_ids = tokenizer(\n",
    "[\n",
    "    alpaca_prompt.format(\n",
    "        \"名古屋弁で回答してください\", # instruction\n",
    "        \"名古屋の名所を教えて？\", # input\n",
    "        \"\", # output\n",
    "    )\n",
    "], return_tensors = \"pt\").to(\"cuda\")\n",
    "\n",
    "# 推論の実行\n",
    "output_ids = model.generate(\n",
    "    **input_ids.to(model.device),\n",
    "    max_new_tokens=200,\n",
    "    do_sample=True,\n",
    "    temperature=0.8,\n",
    ")\n",
    "output = tokenizer.decode(output_ids.tolist()[0])\n",
    "print(output.split(\"### Response:\\n\")[1].split(\"<|end_of_text|>\")[0])\n"
   ]
  }
 ],
 "metadata": {
  "kernelspec": {
   "display_name": "Python 3 (ipykernel)",
   "language": "python",
   "name": "python3"
  },
  "language_info": {
   "codemirror_mode": {
    "name": "ipython",
    "version": 3
   },
   "file_extension": ".py",
   "mimetype": "text/x-python",
   "name": "python",
   "nbconvert_exporter": "python",
   "pygments_lexer": "ipython3",
   "version": "3.10.12"
  }
 },
 "nbformat": 4,
 "nbformat_minor": 5
}
