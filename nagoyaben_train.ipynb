{
 "cells": [
  {
   "cell_type": "markdown",
   "id": "7ccba6cc-30f7-4b86-a6a9-4795b04549d7",
   "metadata": {},
   "source": [
    "# UnslothでLlama3をファインチューニングする\n",
    "\n",
    "[UnslothでLlama3をファインチューニングする](https://zenn.dev/the_exile/articles/unsloth-llama3-fine-tuning) を参考に作成"
   ]
  },
  {
   "cell_type": "code",
   "execution_count": null,
   "id": "6d68e1bf-04d9-419a-810d-547c976251f2",
   "metadata": {},
   "outputs": [],
   "source": [
    "%%capture\n",
    "%pip install --no-deps \"trl<0.9.0\"\n",
    "%pip install -r requirements.txt"
   ]
  },
  {
   "cell_type": "code",
   "execution_count": null,
   "id": "c89a6fd5-e1bc-4357-8868-4c7d0660cfc1",
   "metadata": {},
   "outputs": [],
   "source": [
    "# 1. LLMの読み込み\n",
    "from unsloth import FastLanguageModel\n",
    "import torch\n",
    "import transformers\n",
    "\n",
    "transformers.logging.set_verbosity_error()\n",
    "model, tokenizer = FastLanguageModel.from_pretrained(\n",
    "    model_name = \"unsloth/llama-3-8b-bnb-4bit\",\n",
    "    max_seq_length = 2048,\n",
    "    dtype = None,\n",
    "    load_in_4bit = True,\n",
    ")"
   ]
  },
  {
   "cell_type": "code",
   "execution_count": null,
   "id": "de8bafde-9acb-45d1-89b6-10e62be1c4af",
   "metadata": {},
   "outputs": [],
   "source": [
    "# 2. Fine-tuningする前に質問してみる\n",
    "alpaca_prompt = \"\"\"Below is an instruction that describes a task, paired with an input that provides further context. Write a response that appropriately completes the request.\n",
    "\n",
    "### Instruction:\n",
    "{}\n",
    "### Input:\n",
    "{}\n",
    "### Response:\n",
    "{}\"\"\"\n",
    "\n",
    "FastLanguageModel.for_inference(model)\n",
    "inputs = tokenizer(\n",
    "[\n",
    "    alpaca_prompt.format(\n",
    "        \"名古屋弁で回答してください\", # instruction\n",
    "        \"名古屋で観光はどこに行こうかな？\", # input\n",
    "        \"\", # output\n",
    "    )\n",
    "], return_tensors = \"pt\").to(\"cuda\")\n",
    "\n",
    "from transformers import TextStreamer\n",
    "text_streamer = TextStreamer(tokenizer)\n",
    "_ = model.generate(**inputs, streamer = text_streamer, max_new_tokens = 128)"
   ]
  },
  {
   "cell_type": "code",
   "execution_count": null,
   "id": "5d2a7ce7-962f-4cbc-b614-0b2d6d8b37c2",
   "metadata": {},
   "outputs": [],
   "source": [
    "# 3. データセットの読み込み\n",
    "EOS_TOKEN = tokenizer.eos_token\n",
    "def formatting_prompts_func(examples):\n",
    "    instructions = examples[\"instruction\"]\n",
    "    inputs       = examples[\"input\"]\n",
    "    outputs      = examples[\"output\"]\n",
    "    texts = []\n",
    "    for instruction, input, output in zip(instructions, inputs, outputs):\n",
    "        text = alpaca_prompt.format(instruction, input, output) + EOS_TOKEN\n",
    "        texts.append(text)\n",
    "    return { \"text\" : texts }\n",
    "pass\n",
    "\n",
    "from datasets import load_dataset\n",
    "dataset = load_dataset(\"json\", data_files = \"./nagoyaben_dataset.json\", split = \"train\")\n",
    "dataset = dataset.map(formatting_prompts_func, batched = True)"
   ]
  },
  {
   "cell_type": "code",
   "execution_count": null,
   "id": "0fa1ff44-44f7-45a7-bace-dfc233d4f28c",
   "metadata": {},
   "outputs": [],
   "source": [
    "# 4. パラメータの設定\n",
    "from trl import SFTTrainer\n",
    "from transformers import TrainingArguments\n",
    "\n",
    "model = FastLanguageModel.get_peft_model(\n",
    "    model,\n",
    "    r = 16, # 8, 16, 32, 64, 128\n",
    "    target_modules = [\"q_proj\", \"k_proj\", \"v_proj\", \"o_proj\",\n",
    "                      \"gate_proj\", \"up_proj\", \"down_proj\",],\n",
    "    lora_alpha = 16,\n",
    "    lora_dropout = 0,\n",
    "    bias = \"none\",\n",
    "    use_gradient_checkpointing = \"unsloth\",\n",
    "    random_state = 3407,\n",
    "    use_rslora = False,\n",
    "    loftq_config = None,\n",
    ")\n",
    "\n",
    "trainer = SFTTrainer(\n",
    "    model = model,\n",
    "    tokenizer = tokenizer,\n",
    "    train_dataset = dataset,\n",
    "    dataset_text_field = \"text\",\n",
    "    max_seq_length = 2048,\n",
    "    dataset_num_proc = 2,\n",
    "    packing = False,\n",
    "    args = TrainingArguments(\n",
    "        per_device_train_batch_size = 2,\n",
    "        gradient_accumulation_steps = 4,\n",
    "        warmup_steps = 5,\n",
    "        max_steps = 60,\n",
    "        learning_rate = 2e-4,\n",
    "        fp16 = not torch.cuda.is_bf16_supported(),\n",
    "        bf16 = torch.cuda.is_bf16_supported(),\n",
    "        logging_steps = 1,\n",
    "        optim = \"adamw_8bit\",\n",
    "        weight_decay = 0.01,\n",
    "        lr_scheduler_type = \"linear\",\n",
    "        seed = 3407,\n",
    "        output_dir = \"outputs\",\n",
    "    ),\n",
    ")"
   ]
  },
  {
   "cell_type": "code",
   "execution_count": null,
   "id": "fe70e8a5-1e01-43f7-b131-35d1e4da3d6f",
   "metadata": {},
   "outputs": [],
   "source": [
    "# 5. Fine-tuning\n",
    "trainer_stats = trainer.train()"
   ]
  },
  {
   "cell_type": "code",
   "execution_count": null,
   "id": "90e0d8d6-f2bb-4ddc-b002-d9fa7fb5dd6e",
   "metadata": {},
   "outputs": [],
   "source": [
    "# 6. Fine-tuningしたモデルをテストする\n",
    "FastLanguageModel.for_inference(model)\n",
    "inputs = tokenizer(\n",
    "    [\n",
    "        alpaca_prompt.format(\n",
    "            \"名古屋弁で回答してください\", # instruction\n",
    "            \"名古屋のおいしい食べ物を教えて？\", # input\n",
    "            \"\", # output\n",
    "        )\n",
    "    ], return_tensors = \"pt\").to(\"cuda\")\n",
    "\n",
    "from transformers import TextStreamer\n",
    "text_streamer = TextStreamer(tokenizer)\n",
    "_ = model.generate(**inputs, streamer = text_streamer, max_new_tokens = 128)"
   ]
  },
  {
   "cell_type": "code",
   "execution_count": null,
   "id": "4a39792d-e789-4895-8c05-844405828303",
   "metadata": {},
   "outputs": [],
   "source": [
    "# 7. LoRAモデルを保存する\n",
    "model.save_pretrained(\"nagoyaben-lora-llama-3-8b-bnb-4bit\")"
   ]
  }
 ],
 "metadata": {
  "kernelspec": {
   "display_name": "Python 3 (ipykernel)",
   "language": "python",
   "name": "python3"
  },
  "language_info": {
   "codemirror_mode": {
    "name": "ipython",
    "version": 3
   },
   "file_extension": ".py",
   "mimetype": "text/x-python",
   "name": "python",
   "nbconvert_exporter": "python",
   "pygments_lexer": "ipython3",
   "version": "3.10.12"
  }
 },
 "nbformat": 4,
 "nbformat_minor": 5
}
